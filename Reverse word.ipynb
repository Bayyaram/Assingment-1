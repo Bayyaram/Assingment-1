{
 "cells": [
  {
   "cell_type": "markdown",
   "id": "0df60c63",
   "metadata": {},
   "source": [
    "# Write a Python program that accepts a word from the user and reverse it.\n",
    "\n",
    "\n",
    "\n",
    "Sample Test Case\n",
    "\n",
    "\n",
    "\n",
    "Input : Edyoda\n",
    "\n",
    "output: adoydE"
   ]
  },
  {
   "cell_type": "code",
   "execution_count": 2,
   "id": "b4776614",
   "metadata": {},
   "outputs": [
    {
     "name": "stdout",
     "output_type": "stream",
     "text": [
      "enter the word is: balreddy\n",
      "the original word is:  balreddy\n",
      "the reverse word is:  ydderlab \n"
     ]
    }
   ],
   "source": [
    "x=input(\"enter the word is: \")\n",
    "y=\" \"\n",
    "for i in x:\n",
    "    y=i+y\n",
    "print(\"the original word is: \", x)\n",
    "print(\"the reverse word is: \", y)"
   ]
  },
  {
   "cell_type": "code",
   "execution_count": null,
   "id": "80c4bb7d",
   "metadata": {},
   "outputs": [],
   "source": []
  }
 ],
 "metadata": {
  "kernelspec": {
   "display_name": "Python 3 (ipykernel)",
   "language": "python",
   "name": "python3"
  },
  "language_info": {
   "codemirror_mode": {
    "name": "ipython",
    "version": 3
   },
   "file_extension": ".py",
   "mimetype": "text/x-python",
   "name": "python",
   "nbconvert_exporter": "python",
   "pygments_lexer": "ipython3",
   "version": "3.9.13"
  }
 },
 "nbformat": 4,
 "nbformat_minor": 5
}
